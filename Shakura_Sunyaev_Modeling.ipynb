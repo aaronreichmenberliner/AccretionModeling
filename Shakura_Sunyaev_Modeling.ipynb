{
 "cells": [
  {
   "cell_type": "code",
   "execution_count": 5,
   "id": "9f4aa18c",
   "metadata": {},
   "outputs": [],
   "source": [
    "#import statements\n",
    "import astropy as ap\n",
    "import numpy as np\n",
    "import matplotlib.pyplot as plt\n",
    "import pandas as pd\n",
    "\n",
    "from astropy.constants import G, k_B, h, c, M_sun, L_sun"
   ]
  },
  {
   "cell_type": "markdown",
   "id": "c88aeffc",
   "metadata": {},
   "source": [
    "ALL UNITS IN CGS"
   ]
  },
  {
   "cell_type": "code",
   "execution_count": 6,
   "id": "8310e0ad",
   "metadata": {},
   "outputs": [
    {
     "data": {
      "text/latex": [
       "$147662.5 \\; \\mathrm{cm}$"
      ],
      "text/plain": [
       "<Quantity 147662.50380501 cm>"
      ]
     },
     "execution_count": 6,
     "metadata": {},
     "output_type": "execute_result"
    }
   ],
   "source": [
    "#define constants in CGS\n",
    "\n",
    "G = G.cgs\n",
    "k_B = k_B.cgs\n",
    "h = h.cgs\n",
    "c = c.cgs\n",
    "M_sun = M_sun.cgs\n",
    "L_sun = L_sun.cgs\n",
    "\n",
    "M_sun*G/c**2\n"
   ]
  },
  {
   "cell_type": "code",
   "execution_count": null,
   "id": "9e38858e",
   "metadata": {},
   "outputs": [],
   "source": [
    "#Set up Polynomials for Outer Region\n",
    "\n",
    "\"\"\"\n",
    "This class will create objects that have \n",
    "\n",
    "\"\"\"\n",
    "class Accretion_Polynomial:\n",
    "    m = M/M_sun\n",
    "    L_edd = 3.2e4*m*L_sun #assumes fully ionized hydrogen plasma, but this should suffice for OOM\n",
    "    Mdot = -2*np.pi*Sigma*np.sqrt(Delta)*V/np.sqrt(1-V**2)\n",
    "    mdot = Mdot*(c**2)/L_edd\n",
    "    rstar = r*(c**2)/(G*M)\n",
    "    y = (r/M)**0.5\n",
    "    astar = \n",
    "    \"\"\"Use opacity assumptions from Abramowicz 29\"\"\"\n",
    "    kappa_es = 0.34 #cm^2 g^-1\n",
    "    kappa_ff = 6.4e22*rho_cgs*T_K**(-7/2) #same units as above; rho_cgs is density in g cm^-3, T_K is temp in Kelvin\n",
    "    \n",
    "    \n",
    "    def __init__(self, black_hole_mass, region, radius):\n",
    "        M = G*black_hole_mass/(c**2)\n",
    "        a = Jstar/(black_hole_mass*c)\n",
    "        if region == 'outer':\n",
    "            self.kappa = kappa_ff\n",
    "            self.F = (7e26)*(mdot/m)*(rstar**-3)*(B**-1)*(C**-0.5)*(Q)\n",
    "            self.Sigma = (4e5)*(alpha**(-0.1)*m**(0.2)*mdot**(0.7))*(rstar**(-3/4))*A**(0.1)*B**(-4/5)*C**(1/2)*D**(-17/20)*E**(-1/20)*Q**(7/10) #Sigma is the surface density\n",
    "            self.H = (4e2)*(alpha**(-0.1)*m**(18/20)*mdot**(3/20))*rstar**(9/8)*A**(19/20)*B**(-11/10)*C**(1/2)*D**(-23/40)*E**(-19/40)*Q**(3/20)\n",
    "            self.rhonaught = (4e2)*alpha**(-7/10)*m**(-7/10)*mdot**(3/20)*rstar**(-15/8)*A**(-17/20)*B**(3/10)*D**(-11/40)*E**(17/40)*Q(11/20)\n",
    "            self.T = (2e8)*(alpha**(-1/5)*m**(-1/5)*mdot**(3/10))*rstar**(-3/4)*A**(-1/10)*B**(-1/5)*D**(-3/20)*E**(1/20)*Q(3/10)\n",
    "        elif region == 'middle':\n",
    "        elif region == 'inner':\n",
    "        else:\n",
    "            pass\n",
    "    \n",
    "    def _\n"
   ]
  },
  {
   "cell_type": "code",
   "execution_count": 33,
   "id": "e3953682",
   "metadata": {},
   "outputs": [],
   "source": [
    "#Initialize input arrays\n",
    "resolution = 1000 #number of steps over the radius\n",
    "radius = np.arange(resolution)\n"
   ]
  },
  {
   "cell_type": "code",
   "execution_count": null,
   "id": "1151decb",
   "metadata": {},
   "outputs": [],
   "source": []
  }
 ],
 "metadata": {
  "kernelspec": {
   "display_name": "Python 3",
   "language": "python",
   "name": "python3"
  },
  "language_info": {
   "codemirror_mode": {
    "name": "ipython",
    "version": 3
   },
   "file_extension": ".py",
   "mimetype": "text/x-python",
   "name": "python",
   "nbconvert_exporter": "python",
   "pygments_lexer": "ipython3",
   "version": "3.8.8"
  }
 },
 "nbformat": 4,
 "nbformat_minor": 5
}
