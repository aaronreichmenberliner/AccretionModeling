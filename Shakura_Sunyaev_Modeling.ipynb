{
 "cells": [
  {
   "cell_type": "code",
   "execution_count": 31,
   "id": "9f4aa18c",
   "metadata": {},
   "outputs": [],
   "source": [
    "#import statements\n",
    "import astropy as ap\n",
    "import numpy as np\n",
    "import matplotlib.pyplot as plt\n",
    "import pandas as pd\n",
    "\n",
    "from astropy.constants import G, k_B, h, c, M_sun, L_sun"
   ]
  },
  {
   "cell_type": "markdown",
   "id": "c88aeffc",
   "metadata": {},
   "source": [
    "ALL UNITS IN CGS"
   ]
  },
  {
   "cell_type": "code",
   "execution_count": 32,
   "id": "ef8e87cc",
   "metadata": {},
   "outputs": [],
   "source": [
    "#define constants in CGS\n",
    "\n",
    "G = G.cgs\n",
    "k_B = k_B.cgs\n",
    "h = h.cgs\n",
    "c = c.cgs\n",
    "M_sun = M_sun.cgs\n",
    "L_sun = L_sun.cgs\n"
   ]
  },
  {
   "cell_type": "code",
   "execution_count": null,
   "id": "9e38858e",
   "metadata": {},
   "outputs": [],
   "source": [
    "#Set up Polynomials for Outer Region\n",
    "\n",
    "\"\"\"\n",
    "M #we want this to be the black hole mass\n",
    "\n",
    "\"\"\"\n",
    "def Accretion_Polynomials():\n",
    "    \n",
    "    L_solar\n",
    "    L_\n",
    "    L_edd = M #assumes hydrogen plasma\n",
    "    m = M/M_sun\n",
    "    mdot = Mdot*(c**2)/L_edd\n",
    "    r_bh = r*(c**2)/(G*M)\n",
    "    \n",
    "    def __init__(self):\n",
    "        self.F = (7e26)*(mdot/m)*(r_bh**-3)*(B**-1)*(C**-0.5)*(Q)\n",
    "        self.Sigma = (4e5)*(alpha**(-0.1)*m**(0.2)*mdot**(0.7))*(r**(-3/4))*A**(0.1)*B**(-4/5)*C**(1/2)*D**(-17/20)*E**(-1/20)*Q**(7/10)\n",
    "        self.H = (4e2)*(alpha**(-0.1)*m**(18/20)*mdot**(3/20))*\n"
   ]
  },
  {
   "cell_type": "code",
   "execution_count": 33,
   "id": "3670275f",
   "metadata": {},
   "outputs": [],
   "source": [
    "#Initialize input arrays\n",
    "resolution = 1000 #number of steps over the radius\n",
    "radius = np.arange(resolution)\n"
   ]
  },
  {
   "cell_type": "code",
   "execution_count": null,
   "id": "9d5e2c8d",
   "metadata": {},
   "outputs": [],
   "source": []
  }
 ],
 "metadata": {
  "kernelspec": {
   "display_name": "Python 3",
   "language": "python",
   "name": "python3"
  },
  "language_info": {
   "codemirror_mode": {
    "name": "ipython",
    "version": 3
   },
   "file_extension": ".py",
   "mimetype": "text/x-python",
   "name": "python",
   "nbconvert_exporter": "python",
   "pygments_lexer": "ipython3",
   "version": "3.8.8"
  }
 },
 "nbformat": 4,
 "nbformat_minor": 5
}
