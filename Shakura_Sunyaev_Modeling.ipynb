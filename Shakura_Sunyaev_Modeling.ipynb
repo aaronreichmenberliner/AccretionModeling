{
 "cells": [
  {
   "cell_type": "code",
   "execution_count": 12,
   "id": "9f4aa18c",
   "metadata": {},
   "outputs": [],
   "source": [
    "#import statements\n",
    "import astropy as ap\n",
    "import numpy as np\n",
    "import matplotlib.pyplot as plt\n",
    "import pandas as pd\n",
    "\n",
    "from astropy.constants import G, k_B, h, c, M_sun, L_sun\n",
    "from astropy import units"
   ]
  },
  {
   "cell_type": "markdown",
   "id": "c88aeffc",
   "metadata": {},
   "source": [
    "ALL UNITS IN CGS"
   ]
  },
  {
   "cell_type": "code",
   "execution_count": 4,
   "id": "a03a43b0",
   "metadata": {},
   "outputs": [],
   "source": [
    "#define constants in CGS\n",
    "G = G.cgs\n",
    "k_B = k_B.cgs\n",
    "h = h.cgs\n",
    "c = c.cgs\n",
    "M_sun = M_sun.cgs\n",
    "L_sun = L_sun.cgs"
   ]
  },
  {
   "cell_type": "code",
   "execution_count": 27,
   "id": "8310e0ad",
   "metadata": {},
   "outputs": [],
   "source": [
    "#pull just the value to avoid conflicts with unitless/questionable-unit parameters\n",
    "G = G.cgs.value\n",
    "k_B = k_B.cgs.value\n",
    "h = h.cgs.value\n",
    "c = c.cgs.value\n",
    "M_sun = M_sun.cgs.value\n",
    "L_sun = L_sun.cgs.value"
   ]
  },
  {
   "cell_type": "code",
   "execution_count": 37,
   "id": "9e38858e",
   "metadata": {},
   "outputs": [],
   "source": [
    "class Accretion_Polynomial:\n",
    "    \n",
    "    \"\"\"\n",
    "    This class constructs objects that store Shakura-Sunyaev accretion disk information on a black hole of a \n",
    "    given mass and accretion rate.\n",
    "    \n",
    "    Parameters:\n",
    "        black_hole_mass (float): mass of the BH [g]\n",
    "        radius (1-d numpy float array): construct with upper bound as edge of accretion disk [cm]\n",
    "        region (str): can be 'outer', 'middle', or 'inner'\n",
    "        angular_momentum (float): total angular momentum\n",
    "        accretion_rate (float): rate of accretion (mass per time) in cgs\n",
    "        alpha (float): dimensionless parameter, usually estimated to be ~0.02 in simulation; ~0.1 from observation\n",
    "    \n",
    "    Attributes: [all in cgs]\n",
    "        kappa (float): the opacity (for the purposes of this sim, either free-free or electron-scattering)\n",
    "        F (1-d numpy float array): net flux for each given r in input array\n",
    "        Sigma (1-d numpy float array): surface density \"\"\n",
    "        H (1-d numpy float array): accretion disk height \"\"\n",
    "        rhonaught (1-d numpy float array): volumetric fluid density \"\"\n",
    "        T (1-d numpy float array): temperature \"\" [Kelvin]\n",
    "    \"\"\"\n",
    "    \n",
    "    def __init__(self, black_hole_mass, radius, region ='outer', angular_momentum=1e3, accretion_rate = 1e10, alpha = 0.02):\n",
    "        Jstar = angular_momentum\n",
    "        Mdot = accretion_rate\n",
    "        #initialize bulk parameters\n",
    "        #boilerplate for now just so code will run\n",
    "        M = G*black_hole_mass/(c**2)\n",
    "        a = Jstar/(black_hole_mass*c)\n",
    "        astar = a/M\n",
    "        m = M/M_sun\n",
    "        L_edd = 3.2e4*m*L_sun #assumes fully ionized hydrogen plasma, but this should suffice for OOM\n",
    "        mdot = Mdot*(c**2)/L_edd\n",
    "        rstar = radius*(c**2)/(G*M)\n",
    "        y = (radius/M)**0.5\n",
    "        A = 1+astar**2*y**-4+2*astar*y**-6\n",
    "        B = 1+astar*y**-3\n",
    "        C = 1-3*y**-2+2*astar*y**-3\n",
    "        D = 1-2*y**-2+astar**2*y**-4\n",
    "        E = 1+4*astar**2*y**-4-4*astar**2*y**-6+3*astar**4*y**-8\n",
    "        Q0 = (1+astar*y**-3)/(y*(1-3*y**-2+2*astar*y**-3)**0.5)\n",
    "        y0 = (radius/M)**0.5\n",
    "        y1 = 2*np.cos((np.arccos(astar)-np.pi)/3)\n",
    "        y2 = 2*np.cos((np.arccos(astar)+np.pi)/3)\n",
    "        y3 = -2*np.cos((np.arccos(astar))/3)\n",
    "        Q = Q0*(y-y0-1.5*astar*np.log(y/y0)-3*(y1-astar)**2*np.log((y-y1)/(y0-y1))/(y1*(y1-y2)*(y1-y3))) - \\\n",
    "        Q0*(3*(y2-astar)**2/(y*(y2-y1)*(y2-y3))*np.log((y-y2)/(y0-y2))-\\\n",
    "        3*(y3-astar)**2*np.log((y-y3)/(y0-y3))/(y3*(y3-y1)*(y3-y1)))\n",
    "        #rho_cgs = 1\n",
    "        #T_K = 1e5\n",
    "        \n",
    "        \"\"\"Use opacity assumptions from Abramowicz 29\"\"\"\n",
    "        #kappa_es = 0.34 #cm^2 g^-1\n",
    "        #kappa_ff = 6.4e22*rho_cgs*T_K**(-7/2) #same units as above; rho_cgs is density in g cm^-3, T_K is temp in Kelvin\n",
    "        if region == 'outer':\n",
    "            #self.kappa = kappa_ff\n",
    "            self.F = (7e26)*(mdot/m)*(rstar**-3)*(B**-1)*(C**-0.5)*(Q)\n",
    "            self.Sigma = (4e5)*(alpha**(-0.1)*m**(0.2)*mdot**(0.7))*(rstar**(-3/4))*A**(0.1)*B**(-4/5)*C**(1/2)*D**(-17/20)*E**(-1/20)*Q**(7/10) #Sigma is the surface density\n",
    "            self.H = (4e2)*(alpha**(-0.1)*m**(18/20)*mdot**(3/20))*rstar**(9/8)*A**(19/20)*B**(-11/10)*C**(1/2)*D**(-23/40)*E**(-19/40)*Q**(3/20)\n",
    "            #self.rhonaught = (4e2)*alpha**(-7/10)*m**(-7/10)*mdot**(3/20)*rstar**(-15/8)*A**(-17/20)*B**(3/10)*D**(-11/40)*E**(17/40)*Q(11/20)\n",
    "            self.T = (2e8)*(alpha**(-1/5)*m**(-1/5)*mdot**(3/10))*rstar**(-3/4)*A**(-1/10)*B**(-1/5)*D**(-3/20)*E**(1/20)*Q(3/10)\n",
    "        elif region == 'middle':\n",
    "            self.kappa = kappa_es\n",
    "            self.F = (7e26)*(mdot/m)*(rstar**-3)*(B**-1)*(C**-0.5)*(Q)\n",
    "            self.Sigma = (4e5)*(alpha**(-0.1)*m**(0.2)*mdot**(0.7))*(rstar**(-3/4))*A**(0.1)*B**(-4/5)*C**(1/2)*D**(-17/20)*E**(-1/20)*Q**(7/10) #Sigma is the surface density\n",
    "            self.H = (4e2)*(alpha**(-0.1)*m**(18/20)*mdot**(3/20))*rstar**(9/8)*A**(19/20)*B**(-11/10)*C**(1/2)*D**(-23/40)*E**(-19/40)*Q**(3/20)\n",
    "            self.rhonaught = (4e2)*alpha**(-7/10)*m**(-7/10)*mdot**(3/20)*rstar**(-15/8)*A**(-17/20)*B**(3/10)*D**(-11/40)*E**(17/40)*Q(11/20)\n",
    "            self.T = (2e8)*(alpha**(-1/5)*m**(-1/5)*mdot**(3/10))*rstar**(-3/4)*A**(-1/10)*B**(-1/5)*D**(-3/20)*E**(1/20)*Q(3/10)\n",
    "        elif region == 'inner':\n",
    "            self.kappa = kappa_es\n",
    "            self.F = (7e26)*(mdot/m)*(rstar**-3)*(B**-1)*(C**-0.5)*(Q)\n",
    "            self.Sigma = (4e5)*(alpha**(-0.1)*m**(0.2)*mdot**(0.7))*(rstar**(-3/4))*A**(0.1)*B**(-4/5)*C**(1/2)*D**(-17/20)*E**(-1/20)*Q**(7/10) #Sigma is the surface density\n",
    "            self.H = (4e2)*(alpha**(-0.1)*m**(18/20)*mdot**(3/20))*rstar**(9/8)*A**(19/20)*B**(-11/10)*C**(1/2)*D**(-23/40)*E**(-19/40)*Q**(3/20)\n",
    "            self.rhonaught = (4e2)*alpha**(-7/10)*m**(-7/10)*mdot**(3/20)*rstar**(-15/8)*A**(-17/20)*B**(3/10)*D**(-11/40)*E**(17/40)*Q(11/20)\n",
    "            self.T = (2e8)*(alpha**(-1/5)*m**(-1/5)*mdot**(3/10))*rstar**(-3/4)*A**(-1/10)*B**(-1/5)*D**(-3/20)*E**(1/20)*Q(3/10)\n",
    "        else:\n",
    "            pass\n",
    "        \n",
    "\n",
    "\n"
   ]
  },
  {
   "cell_type": "code",
   "execution_count": 11,
   "id": "e3953682",
   "metadata": {},
   "outputs": [],
   "source": [
    "#Initialize input arrays\n",
    "resolution = int(1e5) #number of steps over the radius\n",
    "bound = 1e10 #outer radius\n",
    "\n",
    "radius = np.linspace(start = 0, stop = bound, num = resolution, dtype = np.float16)\n"
   ]
  },
  {
   "cell_type": "code",
   "execution_count": 38,
   "id": "1151decb",
   "metadata": {},
   "outputs": [
    {
     "name": "stderr",
     "output_type": "stream",
     "text": [
      "<ipython-input-37-24b361d4b295>:37: RuntimeWarning: divide by zero encountered in power\n",
      "  A = 1+astar**2*y**-4+2*astar*y**-6\n",
      "<ipython-input-37-24b361d4b295>:37: RuntimeWarning: invalid value encountered in multiply\n",
      "  A = 1+astar**2*y**-4+2*astar*y**-6\n",
      "<ipython-input-37-24b361d4b295>:38: RuntimeWarning: divide by zero encountered in power\n",
      "  B = 1+astar*y**-3\n",
      "<ipython-input-37-24b361d4b295>:38: RuntimeWarning: invalid value encountered in multiply\n",
      "  B = 1+astar*y**-3\n",
      "<ipython-input-37-24b361d4b295>:39: RuntimeWarning: divide by zero encountered in power\n",
      "  C = 1-3*y**-2+2*astar*y**-3\n",
      "<ipython-input-37-24b361d4b295>:39: RuntimeWarning: invalid value encountered in multiply\n",
      "  C = 1-3*y**-2+2*astar*y**-3\n",
      "<ipython-input-37-24b361d4b295>:40: RuntimeWarning: divide by zero encountered in power\n",
      "  D = 1-2*y**-2+astar**2*y**-4\n",
      "<ipython-input-37-24b361d4b295>:40: RuntimeWarning: invalid value encountered in multiply\n",
      "  D = 1-2*y**-2+astar**2*y**-4\n",
      "<ipython-input-37-24b361d4b295>:41: RuntimeWarning: divide by zero encountered in power\n",
      "  E = 1+4*astar**2*y**-4-4*astar**2*y**-6+3*astar**4*y**-8\n",
      "<ipython-input-37-24b361d4b295>:41: RuntimeWarning: invalid value encountered in multiply\n",
      "  E = 1+4*astar**2*y**-4-4*astar**2*y**-6+3*astar**4*y**-8\n",
      "<ipython-input-37-24b361d4b295>:42: RuntimeWarning: divide by zero encountered in power\n",
      "  Q0 = (1+astar*y**-3)/(y*(1-3*y**-2+2*astar*y**-3)**0.5)\n",
      "<ipython-input-37-24b361d4b295>:42: RuntimeWarning: invalid value encountered in multiply\n",
      "  Q0 = (1+astar*y**-3)/(y*(1-3*y**-2+2*astar*y**-3)**0.5)\n",
      "<ipython-input-37-24b361d4b295>:47: RuntimeWarning: invalid value encountered in subtract\n",
      "  Q = Q0*(y-y0-1.5*astar*np.log(y/y0)-3*(y1-astar)**2*np.log((y-y1)/(y0-y1))/(y1*(y1-y2)*(y1-y3))) - \\\n",
      "<ipython-input-37-24b361d4b295>:47: RuntimeWarning: invalid value encountered in true_divide\n",
      "  Q = Q0*(y-y0-1.5*astar*np.log(y/y0)-3*(y1-astar)**2*np.log((y-y1)/(y0-y1))/(y1*(y1-y2)*(y1-y3))) - \\\n",
      "<ipython-input-37-24b361d4b295>:47: RuntimeWarning: invalid value encountered in log\n",
      "  Q = Q0*(y-y0-1.5*astar*np.log(y/y0)-3*(y1-astar)**2*np.log((y-y1)/(y0-y1))/(y1*(y1-y2)*(y1-y3))) - \\\n",
      "<ipython-input-37-24b361d4b295>:48: RuntimeWarning: divide by zero encountered in true_divide\n",
      "  Q0*(3*(y2-astar)**2/(y*(y2-y1)*(y2-y3))*np.log((y-y2)/(y0-y2))-\\\n",
      "<ipython-input-37-24b361d4b295>:48: RuntimeWarning: invalid value encountered in true_divide\n",
      "  Q0*(3*(y2-astar)**2/(y*(y2-y1)*(y2-y3))*np.log((y-y2)/(y0-y2))-\\\n",
      "<ipython-input-37-24b361d4b295>:48: RuntimeWarning: invalid value encountered in log\n",
      "  Q0*(3*(y2-astar)**2/(y*(y2-y1)*(y2-y3))*np.log((y-y2)/(y0-y2))-\\\n",
      "<ipython-input-37-24b361d4b295>:48: RuntimeWarning: invalid value encountered in multiply\n",
      "  Q0*(3*(y2-astar)**2/(y*(y2-y1)*(y2-y3))*np.log((y-y2)/(y0-y2))-\\\n",
      "<ipython-input-37-24b361d4b295>:49: RuntimeWarning: invalid value encountered in true_divide\n",
      "  3*(y3-astar)**2*np.log((y-y3)/(y0-y3))/(y3*(y3-y1)*(y3-y1)))\n",
      "<ipython-input-37-24b361d4b295>:49: RuntimeWarning: invalid value encountered in log\n",
      "  3*(y3-astar)**2*np.log((y-y3)/(y0-y3))/(y3*(y3-y1)*(y3-y1)))\n",
      "<ipython-input-37-24b361d4b295>:58: RuntimeWarning: divide by zero encountered in power\n",
      "  self.F = (7e26)*(mdot/m)*(rstar**-3)*(B**-1)*(C**-0.5)*(Q)\n",
      "<ipython-input-37-24b361d4b295>:59: RuntimeWarning: divide by zero encountered in power\n",
      "  self.Sigma = (4e5)*(alpha**(-0.1)*m**(0.2)*mdot**(0.7))*(rstar**(-3/4))*A**(0.1)*B**(-4/5)*C**(1/2)*D**(-17/20)*E**(-1/20)*Q**(7/10) #Sigma is the surface density\n",
      "<ipython-input-37-24b361d4b295>:62: RuntimeWarning: divide by zero encountered in power\n",
      "  self.T = (2e8)*(alpha**(-1/5)*m**(-1/5)*mdot**(3/10))*rstar**(-3/4)*A**(-1/10)*B**(-1/5)*D**(-3/20)*E**(1/20)*Q(3/10)\n"
     ]
    },
    {
     "ename": "TypeError",
     "evalue": "'numpy.ndarray' object is not callable",
     "output_type": "error",
     "traceback": [
      "\u001b[0;31m---------------------------------------------------------------------------\u001b[0m",
      "\u001b[0;31mTypeError\u001b[0m                                 Traceback (most recent call last)",
      "\u001b[0;32m<ipython-input-38-6d05c6a0a3bc>\u001b[0m in \u001b[0;36m<module>\u001b[0;34m\u001b[0m\n\u001b[0;32m----> 1\u001b[0;31m \u001b[0mx\u001b[0m \u001b[0;34m=\u001b[0m \u001b[0mAccretion_Polynomial\u001b[0m\u001b[0;34m(\u001b[0m\u001b[0;36m8.3e39\u001b[0m\u001b[0;34m,\u001b[0m \u001b[0mradius\u001b[0m\u001b[0;34m,\u001b[0m \u001b[0maccretion_rate\u001b[0m \u001b[0;34m=\u001b[0m \u001b[0;36m6e17\u001b[0m\u001b[0;34m)\u001b[0m\u001b[0;34m\u001b[0m\u001b[0;34m\u001b[0m\u001b[0m\n\u001b[0m",
      "\u001b[0;32m<ipython-input-37-24b361d4b295>\u001b[0m in \u001b[0;36m__init__\u001b[0;34m(self, black_hole_mass, radius, region, angular_momentum, accretion_rate, alpha)\u001b[0m\n\u001b[1;32m     60\u001b[0m             \u001b[0mself\u001b[0m\u001b[0;34m.\u001b[0m\u001b[0mH\u001b[0m \u001b[0;34m=\u001b[0m \u001b[0;34m(\u001b[0m\u001b[0;36m4e2\u001b[0m\u001b[0;34m)\u001b[0m\u001b[0;34m*\u001b[0m\u001b[0;34m(\u001b[0m\u001b[0malpha\u001b[0m\u001b[0;34m**\u001b[0m\u001b[0;34m(\u001b[0m\u001b[0;34m-\u001b[0m\u001b[0;36m0.1\u001b[0m\u001b[0;34m)\u001b[0m\u001b[0;34m*\u001b[0m\u001b[0mm\u001b[0m\u001b[0;34m**\u001b[0m\u001b[0;34m(\u001b[0m\u001b[0;36m18\u001b[0m\u001b[0;34m/\u001b[0m\u001b[0;36m20\u001b[0m\u001b[0;34m)\u001b[0m\u001b[0;34m*\u001b[0m\u001b[0mmdot\u001b[0m\u001b[0;34m**\u001b[0m\u001b[0;34m(\u001b[0m\u001b[0;36m3\u001b[0m\u001b[0;34m/\u001b[0m\u001b[0;36m20\u001b[0m\u001b[0;34m)\u001b[0m\u001b[0;34m)\u001b[0m\u001b[0;34m*\u001b[0m\u001b[0mrstar\u001b[0m\u001b[0;34m**\u001b[0m\u001b[0;34m(\u001b[0m\u001b[0;36m9\u001b[0m\u001b[0;34m/\u001b[0m\u001b[0;36m8\u001b[0m\u001b[0;34m)\u001b[0m\u001b[0;34m*\u001b[0m\u001b[0mA\u001b[0m\u001b[0;34m**\u001b[0m\u001b[0;34m(\u001b[0m\u001b[0;36m19\u001b[0m\u001b[0;34m/\u001b[0m\u001b[0;36m20\u001b[0m\u001b[0;34m)\u001b[0m\u001b[0;34m*\u001b[0m\u001b[0mB\u001b[0m\u001b[0;34m**\u001b[0m\u001b[0;34m(\u001b[0m\u001b[0;34m-\u001b[0m\u001b[0;36m11\u001b[0m\u001b[0;34m/\u001b[0m\u001b[0;36m10\u001b[0m\u001b[0;34m)\u001b[0m\u001b[0;34m*\u001b[0m\u001b[0mC\u001b[0m\u001b[0;34m**\u001b[0m\u001b[0;34m(\u001b[0m\u001b[0;36m1\u001b[0m\u001b[0;34m/\u001b[0m\u001b[0;36m2\u001b[0m\u001b[0;34m)\u001b[0m\u001b[0;34m*\u001b[0m\u001b[0mD\u001b[0m\u001b[0;34m**\u001b[0m\u001b[0;34m(\u001b[0m\u001b[0;34m-\u001b[0m\u001b[0;36m23\u001b[0m\u001b[0;34m/\u001b[0m\u001b[0;36m40\u001b[0m\u001b[0;34m)\u001b[0m\u001b[0;34m*\u001b[0m\u001b[0mE\u001b[0m\u001b[0;34m**\u001b[0m\u001b[0;34m(\u001b[0m\u001b[0;34m-\u001b[0m\u001b[0;36m19\u001b[0m\u001b[0;34m/\u001b[0m\u001b[0;36m40\u001b[0m\u001b[0;34m)\u001b[0m\u001b[0;34m*\u001b[0m\u001b[0mQ\u001b[0m\u001b[0;34m**\u001b[0m\u001b[0;34m(\u001b[0m\u001b[0;36m3\u001b[0m\u001b[0;34m/\u001b[0m\u001b[0;36m20\u001b[0m\u001b[0;34m)\u001b[0m\u001b[0;34m\u001b[0m\u001b[0;34m\u001b[0m\u001b[0m\n\u001b[1;32m     61\u001b[0m             \u001b[0;31m#self.rhonaught = (4e2)*alpha**(-7/10)*m**(-7/10)*mdot**(3/20)*rstar**(-15/8)*A**(-17/20)*B**(3/10)*D**(-11/40)*E**(17/40)*Q(11/20)\u001b[0m\u001b[0;34m\u001b[0m\u001b[0;34m\u001b[0m\u001b[0;34m\u001b[0m\u001b[0m\n\u001b[0;32m---> 62\u001b[0;31m             \u001b[0mself\u001b[0m\u001b[0;34m.\u001b[0m\u001b[0mT\u001b[0m \u001b[0;34m=\u001b[0m \u001b[0;34m(\u001b[0m\u001b[0;36m2e8\u001b[0m\u001b[0;34m)\u001b[0m\u001b[0;34m*\u001b[0m\u001b[0;34m(\u001b[0m\u001b[0malpha\u001b[0m\u001b[0;34m**\u001b[0m\u001b[0;34m(\u001b[0m\u001b[0;34m-\u001b[0m\u001b[0;36m1\u001b[0m\u001b[0;34m/\u001b[0m\u001b[0;36m5\u001b[0m\u001b[0;34m)\u001b[0m\u001b[0;34m*\u001b[0m\u001b[0mm\u001b[0m\u001b[0;34m**\u001b[0m\u001b[0;34m(\u001b[0m\u001b[0;34m-\u001b[0m\u001b[0;36m1\u001b[0m\u001b[0;34m/\u001b[0m\u001b[0;36m5\u001b[0m\u001b[0;34m)\u001b[0m\u001b[0;34m*\u001b[0m\u001b[0mmdot\u001b[0m\u001b[0;34m**\u001b[0m\u001b[0;34m(\u001b[0m\u001b[0;36m3\u001b[0m\u001b[0;34m/\u001b[0m\u001b[0;36m10\u001b[0m\u001b[0;34m)\u001b[0m\u001b[0;34m)\u001b[0m\u001b[0;34m*\u001b[0m\u001b[0mrstar\u001b[0m\u001b[0;34m**\u001b[0m\u001b[0;34m(\u001b[0m\u001b[0;34m-\u001b[0m\u001b[0;36m3\u001b[0m\u001b[0;34m/\u001b[0m\u001b[0;36m4\u001b[0m\u001b[0;34m)\u001b[0m\u001b[0;34m*\u001b[0m\u001b[0mA\u001b[0m\u001b[0;34m**\u001b[0m\u001b[0;34m(\u001b[0m\u001b[0;34m-\u001b[0m\u001b[0;36m1\u001b[0m\u001b[0;34m/\u001b[0m\u001b[0;36m10\u001b[0m\u001b[0;34m)\u001b[0m\u001b[0;34m*\u001b[0m\u001b[0mB\u001b[0m\u001b[0;34m**\u001b[0m\u001b[0;34m(\u001b[0m\u001b[0;34m-\u001b[0m\u001b[0;36m1\u001b[0m\u001b[0;34m/\u001b[0m\u001b[0;36m5\u001b[0m\u001b[0;34m)\u001b[0m\u001b[0;34m*\u001b[0m\u001b[0mD\u001b[0m\u001b[0;34m**\u001b[0m\u001b[0;34m(\u001b[0m\u001b[0;34m-\u001b[0m\u001b[0;36m3\u001b[0m\u001b[0;34m/\u001b[0m\u001b[0;36m20\u001b[0m\u001b[0;34m)\u001b[0m\u001b[0;34m*\u001b[0m\u001b[0mE\u001b[0m\u001b[0;34m**\u001b[0m\u001b[0;34m(\u001b[0m\u001b[0;36m1\u001b[0m\u001b[0;34m/\u001b[0m\u001b[0;36m20\u001b[0m\u001b[0;34m)\u001b[0m\u001b[0;34m*\u001b[0m\u001b[0mQ\u001b[0m\u001b[0;34m(\u001b[0m\u001b[0;36m3\u001b[0m\u001b[0;34m/\u001b[0m\u001b[0;36m10\u001b[0m\u001b[0;34m)\u001b[0m\u001b[0;34m\u001b[0m\u001b[0;34m\u001b[0m\u001b[0m\n\u001b[0m\u001b[1;32m     63\u001b[0m         \u001b[0;32melif\u001b[0m \u001b[0mregion\u001b[0m \u001b[0;34m==\u001b[0m \u001b[0;34m'middle'\u001b[0m\u001b[0;34m:\u001b[0m\u001b[0;34m\u001b[0m\u001b[0;34m\u001b[0m\u001b[0m\n\u001b[1;32m     64\u001b[0m             \u001b[0mself\u001b[0m\u001b[0;34m.\u001b[0m\u001b[0mkappa\u001b[0m \u001b[0;34m=\u001b[0m \u001b[0mkappa_es\u001b[0m\u001b[0;34m\u001b[0m\u001b[0;34m\u001b[0m\u001b[0m\n",
      "\u001b[0;31mTypeError\u001b[0m: 'numpy.ndarray' object is not callable"
     ]
    }
   ],
   "source": [
    "x = Accretion_Polynomial(8.3e39, radius, accretion_rate = 6e17)"
   ]
  },
  {
   "cell_type": "code",
   "execution_count": 21,
   "id": "35e460a8",
   "metadata": {},
   "outputs": [
    {
     "name": "stdout",
     "output_type": "stream",
     "text": [
      "6.300890659296179e+16 g / s 1.8902671977888532e+18 g / s\n"
     ]
    }
   ],
   "source": [
    "\"\"\"\n",
    "Variables for use later:\n",
    "\n",
    "Mdot = -2*np.pi*Sigma*np.sqrt(Delta)*V/np.sqrt(1-V**2)\n",
    "Delta = 1 #boilerplate for now just so code will run\n",
    "        Sigma = 1 #boilerplate for now just so code will run\n",
    "        V = 0.5 #boilerplate for now just so code will run\n",
    "\n",
    "\"\"\"\n",
    "\n",
    "'''\n",
    "Typical Mdot range: [1e-9, 3e-8] solar masses per year (Shakura+Sunyaev 1973) \n",
    "\n",
    "Conversion to cgs: 6e16 g*s^-1 to 2e18 g*s^-1\n",
    "'''\n",
    "print((1e-9*units.M_sun/units.yr).cgs, (3e-8*units.M_sun/units.yr).cgs)"
   ]
  },
  {
   "cell_type": "code",
   "execution_count": 37,
   "id": "06132ff8",
   "metadata": {},
   "outputs": [
    {
     "data": {
      "text/plain": [
       "<__main__.Accretion_Polynomial at 0x118859250>"
      ]
     },
     "execution_count": 37,
     "metadata": {},
     "output_type": "execute_result"
    }
   ],
   "source": []
  },
  {
   "cell_type": "code",
   "execution_count": null,
   "id": "5b357be9",
   "metadata": {},
   "outputs": [],
   "source": []
  }
 ],
 "metadata": {
  "kernelspec": {
   "display_name": "Python 3",
   "language": "python",
   "name": "python3"
  },
  "language_info": {
   "codemirror_mode": {
    "name": "ipython",
    "version": 3
   },
   "file_extension": ".py",
   "mimetype": "text/x-python",
   "name": "python",
   "nbconvert_exporter": "python",
   "pygments_lexer": "ipython3",
   "version": "3.8.8"
  }
 },
 "nbformat": 4,
 "nbformat_minor": 5
}
